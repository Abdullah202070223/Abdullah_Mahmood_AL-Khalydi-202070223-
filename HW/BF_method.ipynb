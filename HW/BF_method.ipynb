{
 "cells": [
  {
   "cell_type": "code",
   "execution_count": 12,
   "metadata": {},
   "outputs": [
    {
     "name": "stdout",
     "output_type": "stream",
     "text": [
      "BFSTraversalPath:\n",
      "Path found: Arabic_Countries -> Asian -> Asian_North -> Palestine\n"
     ]
    }
   ],
   "source": [
    "Graph = {\n",
    "    \"Arabic_Countries\": [\"Asian\", \"African\"],\n",
    "    \"Asian\": [\"Asian_North\", \"Asian_South\"],\n",
    "    \"African\": [\"African_East\", \"African_West\"],\n",
    "    \"Asian_North\": [\"Palestine\", \"Lebanon\"],\n",
    "    \"Asian_South\": [\"Yemen\", \"Oman\"],\n",
    "    \"African_East\": [\"Egypt\", \"Sudan\"],\n",
    "    \"African_West\": [\"Tunisia\", \"Morocco\"]\n",
    "}\n",
    "\n",
    "visited = []\n",
    "queue = []\n",
    "parent = {}\n",
    "\n",
    "def bfs(start, end):\n",
    "    visited.append(start)\n",
    "    queue.append(start)\n",
    "\n",
    "    while queue:\n",
    "        current = queue.pop(0)\n",
    "\n",
    "        if current == end:\n",
    "            print(\"Path found: \", end=\"\")\n",
    "            path = []\n",
    "            while current is not None:\n",
    "                path.append(current)\n",
    "                current = parent.get(current)\n",
    "            print(\" -> \".join(reversed(path)))\n",
    "            return\n",
    "\n",
    "        for neighbor in Graph[current]:\n",
    "            if neighbor not in visited:\n",
    "                visited.append(neighbor)\n",
    "                queue.append(neighbor)\n",
    "                parent[neighbor] = current\n",
    "\n",
    "    print(\"No path found.\")\n",
    "\n",
    "start_node = \"Arabic_Countries\"\n",
    "end_node = \"Palestine\"\n",
    "\n",
    "print(\"BFSTraversalPath:\")\n",
    "bfs(start_node, end_node)\n"
   ]
  }
 ],
 "metadata": {
  "kernelspec": {
   "display_name": ".My_Environment",
   "language": "python",
   "name": "python3"
  },
  "language_info": {
   "codemirror_mode": {
    "name": "ipython",
    "version": 3
   },
   "file_extension": ".py",
   "mimetype": "text/x-python",
   "name": "python",
   "nbconvert_exporter": "python",
   "pygments_lexer": "ipython3",
   "version": "3.11.4"
  }
 },
 "nbformat": 4,
 "nbformat_minor": 2
}
